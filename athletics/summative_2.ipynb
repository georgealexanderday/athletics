{
 "cells": [
  {
   "cell_type": "code",
   "execution_count": 1,
   "metadata": {},
   "outputs": [],
   "source": [
    "import pandas as pd\n",
    "import requests\n",
    "from bs4 import BeautifulSoup\n",
    "import lxml"
   ]
  },
  {
   "cell_type": "code",
   "execution_count": 2,
   "metadata": {},
   "outputs": [
    {
     "name": "stdout",
     "output_type": "stream",
     "text": [
      "/athletes/united-states/trayvon-bromell-14519911\n",
      "/athletes/united-states/fred-kerley-14504382\n",
      "/athletes/united-states/marvin-bracy-14425680\n",
      "/athletes/united-states/christian-coleman-014541956\n",
      "/athletes/south-africa/akani-simbine-14417763\n",
      "/athletes/italy/lamont-marcell-jacobs-014453864\n",
      "/athletes/jamaica/oblique-seville-14737998\n",
      "/athletes/jamaica/yohan-blake-14201842\n",
      "/athletes/kenya/ferdinand-omanyala-14747153\n",
      "/athletes/canada/aaron-brown-14366482\n",
      "/athletes/jamaica/ackeem-blake-14638971\n",
      "/athletes/great-britain-ni/reece-prescod-14522622\n",
      "/athletes/united-states/elijah-hall-014432013\n",
      "/athletes/japan/abdul-hakim-sani-brown-014671546\n",
      "/athletes/united-states/noah-lyles-14536762\n",
      "/athletes/united-states/brandon-carnes-014466007\n",
      "/athletes/united-states/kyree-king-014476000\n",
      "/athletes/great-britain-ni/zharnel-hughes-14414524\n",
      "/athletes/united-states/micah-williams-14715873\n",
      "/athletes/sri-lanka/yupun-abeykoon-14715661\n",
      "/athletes/cote-divoire/arthur-cisse-014636943\n",
      "/athletes/great-britain-ni/jeremiah-azu-14771648\n",
      "/athletes/united-states/cravont-charleston-014629201\n",
      "/athletes/united-states/kendal-williams-014465376\n",
      "/athletes/nigeria/favour-oghene-tejiri-ashe-14888403\n",
      "/athletes/brazil/felipe-bardi-14657140\n",
      "/athletes/botswana/letsile-tebogo-14883897\n",
      "/athletes/liberia/emmanuel-matadi-14375111\n",
      "/athletes/canada/andre-de-grasse-14535607\n",
      "/athletes/nigeria/raymond-ekevwo-14714099\n",
      "/athletes/ghana/benjamin-azamati-14873268\n",
      "/athletes/france/mouhamadou-fall-14702316\n",
      "/athletes/france/jimmy-vicaut-014334964\n",
      "/athletes/canada/jerome-blake-14654737\n",
      "/athletes/united-states/michael-rodgers-014249856\n",
      "/athletes/australia/jake-doran-14731617\n",
      "/athletes/south-africa/henricho-bruintjies-14413736\n",
      "/athletes/italy/chituru-ali-014701305\n",
      "/athletes/antigua-barbuda/cejhae-greene-14469945\n",
      "/athletes/south-africa/emile-erasmus-14417680\n",
      "/athletes/united-states/kenneth-bednarek-14715244\n",
      "/athletes/liberia/joseph-fahnbulleh-14803230\n",
      "/athletes/cuba/shainer-rengifo-montoya-14835237\n",
      "/athletes/brazil/erik-cardoso-014718734\n",
      "/athletes/jamaica/jelani-walker-014574661\n",
      "/athletes/trinidad-and-tobago/jerod-elcock-14629334\n",
      "/athletes/indonesia/lalu-muhammad-zohri-14794034\n",
      "/athletes/australia/rohan-browning-14575440\n",
      "/athletes/united-states/isiah-young-014360879\n",
      "/athletes/united-states/illas-garcia-014761726\n",
      "/athletes/japan/yoshihide-kiryu-014547456\n",
      "/athletes/bahamas/terrence-jones-14835094\n",
      "/athletes/slovak-republic/jan-volko-014511687\n",
      "/athletes/new-zealand/edward-osei-nketia-14732744\n",
      "/athletes/jamaica/nigel-ellis-14576547\n",
      "/athletes/netherlands/joris-van-gool-014573866\n",
      "/athletes/germany/owen-ansah-14812323\n",
      "/athletes/cameroon/emmanuel-eseme-14852717\n",
      "/athletes/british-virgin-islands/rikkoi-brathwaite-14739360\n",
      "/athletes/great-britain-ni/adam-thomas-14451542\n",
      "/athletes/nigeria/usheoritse-itsekiri-14705042\n",
      "/athletes/united-states/matthew-boling-14774788\n",
      "/athletes/saudi-arabia/abdullah-abkar-mohammed-014752176\n",
      "/athletes/nigeria/alaba-olukunle-akintola-14807262\n",
      "/athletes/germany/lucas-ansah-peprah-014771269\n",
      "/athletes/germany/julian-wagner-014627434\n",
      "/athletes/france/meba-mickael-zeze-014389351\n",
      "/athletes/jamaica/davonte-burnett-14716704\n",
      "/athletes/south-africa/clarence-munyai-14630862\n",
      "/athletes/cuba/reynier-mena-014518308\n",
      "/athletes/estonia/karl-erik-nazarov-014677801\n",
      "/athletes/great-britain-ni/nethaneel-mitchell-blake-14413552\n",
      "/athletes/trinidad-and-tobago/eric-harrison-jr-14489414\n",
      "/athletes/cote-divoire/ismael-kone-14849101\n",
      "/athletes/great-britain-ni/andrew-robertson-14190619\n",
      "/athletes/brazil/rodrigo-do-nascimento-014496746\n",
      "/athletes/great-britain-ni/ojie-edoburun-14509174\n",
      "/athletes/austria/markus-fuchs-014434177\n",
      "/athletes/korea/kukyoung-kim-014210243\n",
      "/athletes/japan/ryuichiro-sakai-014719540\n",
      "/athletes/guyana/emanuel-archibald-14747754\n",
      "/athletes/ireland/israel-olatunde-014827151\n",
      "/athletes/united-states/erriyon-knighton-14897541\n",
      "/athletes/jamaica/oshane-bailey-14201808\n",
      "/athletes/united-states/josephus-lyles-14592146\n",
      "/athletes/poland/przemyslaw-slowikowski-014456427\n",
      "/athletes/united-states/jovaughn-martin-14774742\n",
      "/athletes/south-africa/benjamin-richardson-14888283\n",
      "/athletes/new-zealand/tiaan-whelpton-14820394\n",
      "/athletes/mauritius/gary-noa-jerrel-bibi-14858024\n",
      "/athletes/united-states/christopher-belcher-14503562\n",
      "/athletes/jamaica/kemar-bailey-cole-14367591\n",
      "/athletes/the-gambia/ebrahima-camara-14579425\n",
      "/athletes/japan/yuki-koike-14547883\n",
      "/athletes/jamaica/conroy-jones-14782156\n",
      "/athletes/argentina/franco-florio-014813775\n",
      "/athletes/united-states/damarcus-fleming-014833270\n",
      "/athletes/poland/dominik-kopec-014543976\n",
      "/athletes/japan/hiroki-yanagita-014860572\n",
      "/athletes/france/amaury-golitin-014633823\n"
     ]
    }
   ],
   "source": [
    "URL = 'https://www.worldathletics.org/world-rankings/100m/men?regionType=world&page=1&rankDate=2022-10-04&limitByCountry=0'\n",
    "page = requests.get(URL)\n",
    "soup = BeautifulSoup(page.content, \"html.parser\")\n",
    "results = soup.find_all(\"tr\", class_=\"table-row--hover\")\n",
    "\n",
    "\n",
    "athlete_urls = []\n",
    "for result in results:\n",
    "    attrs = result.attrs\n",
    "    data_athlete_url = attrs['data-athlete-url']\n",
    "    athlete_urls.append(data_athlete_url)\n",
    "\n",
    "\n",
    "for u in athlete_urls:\n",
    "    print(u)\n",
    "\n",
    "\n",
    "BASE_URL=\"https://www.worldathletics.org\"\n",
    "\n",
    "combined = BASE_URL + athlete_urls[0]\n",
    "\n",
    "\n",
    "\n",
    "\n",
    "\n",
    "\n"
   ]
  },
  {
   "cell_type": "code",
   "execution_count": 3,
   "metadata": {},
   "outputs": [],
   "source": [
    "BASE_URL=\"http://www.worldathletics.org\"\n",
    "\n",
    "combined = BASE_URL + athlete_urls[0]"
   ]
  },
  {
   "cell_type": "code",
   "execution_count": 14,
   "metadata": {},
   "outputs": [
    {
     "name": "stdout",
     "output_type": "stream",
     "text": [
      "[<div id=\"__next\"><header class=\"styles_root__GhScr\"><div class=\"styles_root__1DHCQ\"><div class=\"TopHeader_root__1f-J1\"><nav class=\"TopHeaderNavbar_root__1kT1b\" data-name=\"top-navigation\"><ul><li class=\"TopHeaderNavbar_li__1QKYw\"><a class=\"\" href=\"/about-iaaf\">Inside World Athletics</a></li><li class=\"TopHeaderNavbar_li__1QKYw\"><a class=\"\" href=\"/heritage\">Museum</a></li><li class=\"TopHeaderNavbar_li__1QKYw\"><a class=\"\" href=\"/library\">Library</a></li></ul></nav><div class=\"style_root__1BO3b\"><a class=\"style_button__4VsGz\"><img alt=\"Icon User\" src=\"/static/login.svg\"/> <span>Sign in</span></a><div class=\"style_subNav__1O0KJ\"><div class=\"style_content__1HJ1D\"><a class=\"style_link__2RGFF\" href=\"https://identity.worldathletics.org/registration?source=waw\">Register now</a><a class=\"style_link__2RGFF\" href=\"/why-register\">Why register?</a></div></div></div></div><div class=\"MiddleHeader_root__2Nl7j\"><div class=\"Logo_root__1dluZ\"><a class=\"\" href=\"/\"><img alt=\"logo\" src=\"https://media.aws.iaaf.org/logos/wa-logo.svg\"/></a></div><nav class=\"MainNav_nav__2vEYm\" data-name=\"main-navigation\"><ul><li><a class=\"\" href=\"/\">Home</a></li><li><a class=\"\" href=\"/news\">News</a></li><li><a class=\"\" href=\"/competitions\">Competitions</a></li><li><a class=\"\" href=\"/athletes-home\">Athletes</a></li><li><a class=\"\" href=\"/our-sport\">Our Sport</a></li><li><a class=\"\" href=\"/stats-zone\">Stats Zone</a></li><li><a class=\"\" href=\"/be-active\">Be Active</a></li><li><a class=\"\" href=\"/athletics-better-world\">Better World</a></li><li><a class=\"\" href=\"https://shop.worldathletics.org\">Shop</a></li></ul></nav><form class=\"SearchForm_searchForm__3IEfI\" style=\"margin-left:auto\"><input class=\"SearchForm_searchField__10my7\" placeholder=\"Search World Athletics\" type=\"text\" value=\"\"/><button class=\"SearchForm_searchBtn__2t2tK\" type=\"submit\"><img alt=\"search icon\" class=\"SearchForm_searchIcon__3Hj1Y\" src=\"/static/search-icon.svg\"/></button></form></div></div><div class=\"BottomHeader_root__1ZZgr\"><div class=\"CountdownBar_countdownWrap__1OPfu\" data-name=\"count-down\"><div class=\"CountdownBar_countdownInner__Bfk85\"><a class=\"CountdownBar_countdownContainer__3ZV2l\" href=\"/competitions/world-athletics-championships/budapest23\"><div class=\"CountdownBar_eventNameDate__3LR3i\">World Athletics Championships<!-- --> <span class=\"CountdownBar_dateEventName__1E17y\">Budapest23</span></div><div class=\"CountdownBar_countdown__3rrzz\"><span class=\"CountdownBar_countdownLabel__2BoA_\"><img alt=\"Seiko\" class=\"CountdownBar_seikoLogo__3rW_3\" src=\"/static/seiko-logo-white.svg\"/> Countdown</span><span class=\"Countdown_countdownWrap__1B9v-\">316<span class=\"Countdown_unit__1Kqb0\">d</span> <!-- -->4<span class=\"Countdown_unit__1Kqb0\">h</span> <!-- -->20<span class=\"Countdown_unit__1Kqb0\">m</span> <!-- -->20<span class=\"Countdown_unit__1Kqb0\">s</span></span></div></a><hr class=\"CountdownBar_hr__1-HEt\"/></div></div></div></header><div class=\"SectionNav_sectionNav__iIu_o SectionNav_fullSubNav__2jSyt\" data-name=\"submenu-container\"><div class=\"SectionNav_sectionNavInner__3NbMf\"><div class=\"SectionNav_navWrap__H7sFR\"><nav class=\"SectionNav_nav__2vIRX\"><ul class=\"SectionNav_navList__uPtfy\"><li><a anchortext=\"Athletes Home\" class=\"undefined\" href=\"/athletes-home\">Athletes Home</a></li><li><a anchortext=\"World Rankings\" class=\"undefined\" href=\"/world-rankings/introduction\">World Rankings</a></li><li><a anchortext=\"Profiles\" class=\"undefined NavLink_active__2UAk6\" href=\"/athletes\">Profiles</a></li><li><a anchortext=\"Awards\" class=\"undefined\" href=\"/awards\">Awards</a></li><li><a anchortext=\"Spikes\" class=\"undefined\" href=\"https://spikes.iaaf.org/\">Spikes</a></li><li><a anchortext=\"Athletes' Representatives\" class=\"undefined\" href=\"/athletes/athlete-representatives\">Athletes' Representatives</a></li><li><a anchortext=\"Transfer of Allegiance\" class=\"undefined\" href=\"/about-iaaf/documents/research-centre#collapseathlete-transfer-of-allegiance\">Transfer of Allegiance</a></li><li><a anchortext=\"Athletes Commission\" class=\"undefined\" href=\"/about-iaaf/structure/commissions\">Athletes Commission</a></li></ul></nav></div><div class=\"SectionNav_chevronRight__2GuVA\"></div></div></div><div><div class=\"profileBasicInfo_largeMedia__HdWK2\" style=\"background-image:url(https://media.aws.iaaf.org/media/BannerNews/77959230-d40c-4984-9098-16460bcab36e.jpg);background-position:center 20%;background-size:cover;height:714px\"><div class=\"profileBasicInfo_largeMediaGradient__2N23x\"></div></div><div class=\"profileBasicInfo_athleteDetails__3mrB0\"><div class=\"profileBasicInfo_athleteInner__1pKji\"><div class=\"profileBasicInfo_athletePhoto__3rUMg\"><div class=\"profileBasicInfo_athletePhotoInner__1Gx-9\"><div class=\"profileBasicInfo_athletePhotoName__10f6u\"><div class=\"profileBasicInfo_athleteNameTitle__3Ekoc\">Athlete Name</div><h1><span class=\"profileBasicInfo_firstName__1Yj4q\">Trayvon</span> <span class=\"profileBasicInfo_lastName__10Vkd\">BROMELL</span></h1></div></div></div><div class=\"profileBasicInfo_athleteStats__mAm4_\"><div class=\"profileBasicInfo_stats__RB2La\"><div class=\"profileBasicInfo_statName__3OI_Y\">Country</div><div class=\"profileBasicInfo_statValue__IXJTW\">United States</div></div><div class=\"profileBasicInfo_stats__RB2La\"><div class=\"profileBasicInfo_statName__3OI_Y\">Born</div><div class=\"profileBasicInfo_statValue__IXJTW\">10 JUL 1995</div></div><div class=\"profileBasicInfo_stats__RB2La\"><div class=\"profileBasicInfo_statName__3OI_Y\">Athlete Code</div><div class=\"profileBasicInfo_statValue__IXJTW\">14519911</div></div><div class=\"profileBasicInfo_stats__RB2La\"><div class=\"profileBasicInfo_statName__3OI_Y\">Age</div><div class=\"profileBasicInfo_statValue__IXJTW\">27</div></div><div class=\"profileBasicInfo_stats__RB2La profileBasicInfo_statsButton__2-viN\"><button class=\"FollowAthlete_btnContainer__3-5hL FollowAthlete_container__3m0IT\" type=\"button\"><div class=\"FollowAthlete_label__1P_xS\">Follow me</div><div><img alt=\"Follow\" src=\"/static/icon-star-empty-black.svg\"/></div></button></div><div class=\"profileBasicInfo_stats__RB2La\"></div> </div><div class=\"profileBasicInfo_statsButtonMobile__3RKKe\"><button class=\"FollowAthlete_btnContainer__3-5hL FollowAthlete_container__3m0IT\" type=\"button\"><div class=\"FollowAthlete_label__1P_xS\">Follow me</div><div><img alt=\"Follow\" src=\"/static/icon-star-empty-black.svg\"/></div></button></div></div></div></div><section class=\"profileStatistics_athleteRepresentativeRoot__3MyEh\"><div class=\"profileStatistics_athleteRep__2tAFm\"><div class=\"profileStatistics_athleteRepHead__4ok50\"><h3>Athlete Representative <!-- -->Ricky SIMMS</h3><div class=\"profileStatistics_athleteRepChevron__2PvbG\"></div></div><div class=\"profileStatistics_athleteRepContent__3u3M2\"><ul><li class=\"profileStatistics_viewProfile__3maSq\"><a href=\"/athletes/athlete-representatives/directory/ricky-simms-187417\">View Profile</a></li><li class=\"profileStatistics_li__1oo8w\"><h4 class=\"profileStatistics_repLabel__3jDgi\">Country</h4><span class=\"profileStatistics_country__3n50v\"><span class=\"Flags_container__3W63l\" style=\"width:auto\"><i class=\"Flags_icon__3Uv11 icon-flag-IRL\"></i></span><span class=\"profileStatistics_countryName__3UWS3\">IRELAND</span></span></li><li class=\"profileStatistics_li__1oo8w\"><h4 class=\"profileStatistics_repLabel__3jDgi\">Mobile</h4><span></span></li><li class=\"profileStatistics_li__1oo8w\"><h4 class=\"profileStatistics_repLabel__3jDgi\">Email</h4><span><a href=\"mailto:info@pacesportsmanagement.com\">info@pacesportsmanagement.com</a></span></li><li class=\"profileStatistics_li__1oo8w\"><h4 class=\"profileStatistics_repLabel__3jDgi\">Website</h4><span><a href=\"http://www.pacesportsmanagement.com\" rel=\"noopener noreferrer\" target=\"_blank\">http://www.pacesportsmanagement.com</a></span></li></ul></div></div></section><div class=\"profileStatistics_rootHonourSummary__29rR8\"><div class=\"profileStatistics_honourSummaryWrap__1odEj\"><div class=\"profileStatistics_honourSummaryTitle__1KAmD\">Honours Summary</div><div class=\"profileStatistics_honourSummaryRow__4gOgp\"><div class=\"profileStatistics_honourSummaryBlock__1qOBV\"><div class=\"profileStatistics_honourSummaryInner__3HoxV\"><span class=\"profileStatistics_honourSummaryCount__1Qgsv\">1<!-- --> x</span><span class=\"profileStatistics_honourSummaryName__3qNMm\">World Indoor champion</span></div></div><div class=\"profileStatistics_honourSummaryBlock__1qOBV\"><div class=\"profileStatistics_honourSummaryInner__3HoxV\"><span class=\"profileStatistics_honourSummaryCount__1Qgsv\">2<!-- --> x</span><span class=\"profileStatistics_honourSummaryName__3qNMm\">World Championships Bronze medallist</span></div></div><div class=\"profileStatistics_honourSummaryBlock__1qOBV\"><div class=\"profileStatistics_honourSummaryInner__3HoxV\"><span class=\"profileStatistics_honourSummaryCount__1Qgsv\">1<!-- --> x</span><span class=\"profileStatistics_honourSummaryName__3qNMm\">In Top 8 at Olympic Games</span></div></div><div class=\"profileStatistics_honourSummaryBlock__1qOBV\"><div class=\"profileStatistics_honourSummaryInner__3HoxV\"><span class=\"profileStatistics_honourSummaryCount__1Qgsv\">1<!-- --> x</span><span class=\"profileStatistics_honourSummaryName__3qNMm\">World U20 champion</span></div></div><div class=\"profileStatistics_honourSummaryBlock__1qOBV profileStatistics_honourSummaryBlockFullWidth__3RNPd profileStatistics_honourSummaryMoreBlock__YjMd-\"><div class=\"profileStatistics_honourSummaryInner__3HoxV profileStatistics_honourSummaryBlockFullWidthInner__39x1F\"><button class=\"profileStatistics_honourSummaryMoreButton__OJ2mz\" type=\"button\">More Honours<i class=\"profileStatistics_arrowIcon__37Jew false\"><svg fill=\"currentColor\" height=\"34\" viewbox=\"0 0 1024 1024\" width=\"34\" xmlns=\"http://www.w3.org/2000/svg\"><path d=\"M317.256 354.744l-90.512 90.512 285.256 285.254 285.254-285.256-90.508-90.508-194.746 194.744z\"></path></svg></i></button><ul class=\"profileStatistics_honourSummaryMoreList__3EtWa\"></ul></div></div></div></div></div><div class=\"profileStatistics_fullStats__2G6op\"><div class=\"profileStatistics_fullStatsInner__33eTg\"><div class=\"profileStatistics_tabs__1cAYd\"><ul></ul></div><div><div class=\"profileStatistics_contentInner__3to5y\"></div></div></div></div><section class=\"styles_root___gXIc\"><div class=\"styles_rootHeader__1O5KY\"><div class=\"styles_selectWrap__3FViw\"><div class=\"styles_title__1uxCE\"><h1 class=\"styles_text__O3_ek\">Head To Head</h1><style data-emotion-css=\"2b097c-container\">.css-2b097c-container{position:relative;box-sizing:border-box;}</style><div class=\"styles_select__3hgpv css-2b097c-container\"><style data-emotion-css=\"11lyo8w-control\">.css-11lyo8w-control{-webkit-align-items:center;-webkit-box-align:center;-ms-flex-align:center;align-items:center;background-color:hsl(0,0%,100%);border-color:#818181;border-radius:0;border-style:solid;border-width:1px;cursor:default;display:-webkit-box;display:-webkit-flex;display:-ms-flexbox;display:flex;-webkit-flex-wrap:wrap;-ms-flex-wrap:wrap;flex-wrap:wrap;-webkit-box-pack:justify;-webkit-justify-content:space-between;-ms-flex-pack:justify;justify-content:space-between;min-height:38px;outline:0 !important;position:relative;-webkit-transition:all 100ms;transition:all 100ms;box-sizing:border-box;}.css-11lyo8w-control:hover{border-color:hsl(0,0%,70%);}</style><div class=\"css-11lyo8w-control\"><style data-emotion-css=\"1hwfws3\">.css-1hwfws3{-webkit-align-items:center;-webkit-box-align:center;-ms-flex-align:center;align-items:center;display:-webkit-box;display:-webkit-flex;display:-ms-flexbox;display:flex;-webkit-flex:1;-ms-flex:1;flex:1;-webkit-flex-wrap:wrap;-ms-flex-wrap:wrap;flex-wrap:wrap;padding:2px 8px;-webkit-overflow-scrolling:touch;position:relative;overflow:hidden;box-sizing:border-box;}</style><div class=\"css-1hwfws3\"><style data-emotion-css=\"1wa3eu0-placeholder\">.css-1wa3eu0-placeholder{color:hsl(0,0%,50%);margin-left:2px;margin-right:2px;position:absolute;top:50%;-webkit-transform:translateY(-50%);-ms-transform:translateY(-50%);transform:translateY(-50%);box-sizing:border-box;}</style><div class=\"css-1wa3eu0-placeholder\">Select...</div><style data-emotion-css=\"1g6gooi\">.css-1g6gooi{margin:2px;padding-bottom:2px;padding-top:2px;visibility:visible;color:hsl(0,0%,20%);box-sizing:border-box;}</style><div class=\"css-1g6gooi\"><div class=\"\" style=\"display:inline-block\"><input aria-autocomplete=\"list\" autocapitalize=\"none\" autocomplete=\"off\" autocorrect=\"off\" id=\"react-select-137554-input\" spellcheck=\"false\" style=\"box-sizing:content-box;width:1px;label:input;background:0;border:0;font-size:inherit;opacity:1;outline:0;padding:0;color:inherit\" tabindex=\"0\" type=\"text\" value=\"\"/><div style=\"position:absolute;top:0;left:0;visibility:hidden;height:0;overflow:scroll;white-space:pre\"></div></div></div></div><style data-emotion-css=\"1wy0on6\">.css-1wy0on6{-webkit-align-items:center;-webkit-box-align:center;-ms-flex-align:center;align-items:center;-webkit-align-self:stretch;-ms-flex-item-align:stretch;align-self:stretch;display:-webkit-box;display:-webkit-flex;display:-ms-flexbox;display:flex;-webkit-flex-shrink:0;-ms-flex-negative:0;flex-shrink:0;box-sizing:border-box;}</style><div class=\"css-1wy0on6\"><style data-emotion-css=\"fric97-indicatorContainer\">.css-fric97-indicatorContainer{color:#818181;display:-webkit-box;display:-webkit-flex;display:-ms-flexbox;display:flex;padding:8px;-webkit-transition:color 150ms;transition:color 150ms;box-sizing:border-box;}.css-fric97-indicatorContainer:hover{color:hsl(0,0%,60%);}</style><div aria-hidden=\"true\" class=\"css-fric97-indicatorContainer\"><style data-emotion-css=\"19bqh2r\">.css-19bqh2r{display:inline-block;fill:currentColor;line-height:1;stroke:currentColor;stroke-width:0;}</style><svg aria-hidden=\"true\" class=\"css-19bqh2r\" focusable=\"false\" height=\"20\" viewbox=\"0 0 20 20\" width=\"20\"><path d=\"M4.516 7.548c0.436-0.446 1.043-0.481 1.576 0l3.908 3.747 3.908-3.747c0.533-0.481 1.141-0.446 1.574 0 0.436 0.445 0.408 1.197 0 1.615-0.406 0.418-4.695 4.502-4.695 4.502-0.217 0.223-0.502 0.335-0.787 0.335s-0.57-0.112-0.789-0.335c0 0-4.287-4.084-4.695-4.502s-0.436-1.17 0-1.615z\"></path></svg></div></div></div></div></div></div><div class=\"styles_media__1hytB\"><div class=\"styles_image__1LlWv\" style=\"background-image:linear-gradient(rgba(0, 0, 0, 0), rgba(0, 0, 0, 0.2)), url(https://media.aws.iaaf.org/media/Medium/77959230-d40c-4984-9098-16460bcab36e.jpg)\"><span class=\"styles_score__2F6sZ\"></span></div><div class=\"styles_image__1LlWv\" style=\"background-image:linear-gradient(rgba(0, 0, 0, 0), rgba(0, 0, 0, 0.2)), url(/static/default-competitor-profile.svg)\"><span class=\"styles_score__2F6sZ\"></span></div></div></div><div class=\"styles_inner__2vl_q\"><div class=\"styles_competitors__2dd_y\"><div class=\"styles_competitor__2ukCP\">Trayvon<!-- --> <!-- -->BROMELL</div><span>Vs.</span><div class=\"styles_competitor__2ukCP\"><style data-emotion-css=\"2b097c-container\">.css-2b097c-container{position:relative;box-sizing:border-box;}</style><div class=\"styles_select__28q8S css-2b097c-container\"><style data-emotion-css=\"17tpwaj-control\">.css-17tpwaj-control{-webkit-align-items:center;-webkit-box-align:center;-ms-flex-align:center;align-items:center;background-color:#262626;border-color:hsl(0,0%,80%);border-radius:0;border-style:solid;border-width:1px;cursor:default;display:-webkit-box;display:-webkit-flex;display:-ms-flexbox;display:flex;-webkit-flex-wrap:wrap;-ms-flex-wrap:wrap;flex-wrap:wrap;-webkit-box-pack:justify;-webkit-justify-content:space-between;-ms-flex-pack:justify;justify-content:space-between;min-height:38px;outline:0 !important;position:relative;-webkit-transition:all 100ms;transition:all 100ms;box-sizing:border-box;border:none;color:#ffffff;}.css-17tpwaj-control:hover{border-color:hsl(0,0%,70%);}</style><div class=\"css-17tpwaj-control\"><style data-emotion-css=\"1hwfws3\">.css-1hwfws3{-webkit-align-items:center;-webkit-box-align:center;-ms-flex-align:center;align-items:center;display:-webkit-box;display:-webkit-flex;display:-ms-flexbox;display:flex;-webkit-flex:1;-ms-flex:1;flex:1;-webkit-flex-wrap:wrap;-ms-flex-wrap:wrap;flex-wrap:wrap;padding:2px 8px;-webkit-overflow-scrolling:touch;position:relative;overflow:hidden;box-sizing:border-box;}</style><div class=\"css-1hwfws3\"><style data-emotion-css=\"1wa3eu0-placeholder\">.css-1wa3eu0-placeholder{color:hsl(0,0%,50%);margin-left:2px;margin-right:2px;position:absolute;top:50%;-webkit-transform:translateY(-50%);-ms-transform:translateY(-50%);transform:translateY(-50%);box-sizing:border-box;}</style><div class=\"css-1wa3eu0-placeholder\">Select...</div><style data-emotion-css=\"1g6gooi\">.css-1g6gooi{margin:2px;padding-bottom:2px;padding-top:2px;visibility:visible;color:hsl(0,0%,20%);box-sizing:border-box;}</style><div class=\"css-1g6gooi\"><div class=\"\" style=\"display:inline-block\"><input aria-autocomplete=\"list\" autocapitalize=\"none\" autocomplete=\"off\" autocorrect=\"off\" id=\"react-select-137555-input\" spellcheck=\"false\" style=\"box-sizing:content-box;width:1px;label:input;background:0;border:0;font-size:inherit;opacity:1;outline:0;padding:0;color:inherit\" tabindex=\"0\" type=\"text\" value=\"\"/><div style=\"position:absolute;top:0;left:0;visibility:hidden;height:0;overflow:scroll;white-space:pre\"></div></div></div></div><style data-emotion-css=\"1wy0on6\">.css-1wy0on6{-webkit-align-items:center;-webkit-box-align:center;-ms-flex-align:center;align-items:center;-webkit-align-self:stretch;-ms-flex-item-align:stretch;align-self:stretch;display:-webkit-box;display:-webkit-flex;display:-ms-flexbox;display:flex;-webkit-flex-shrink:0;-ms-flex-negative:0;flex-shrink:0;box-sizing:border-box;}</style><div class=\"css-1wy0on6\"><style data-emotion-css=\"116jk65-indicatorContainer\">.css-116jk65-indicatorContainer{color:#FFFFFF;display:-webkit-box;display:-webkit-flex;display:-ms-flexbox;display:flex;padding:8px;-webkit-transition:color 150ms;transition:color 150ms;box-sizing:border-box;}.css-116jk65-indicatorContainer:hover{color:hsl(0,0%,60%);}</style><div aria-hidden=\"true\" class=\"css-116jk65-indicatorContainer\"><style data-emotion-css=\"19bqh2r\">.css-19bqh2r{display:inline-block;fill:currentColor;line-height:1;stroke:currentColor;stroke-width:0;}</style><svg aria-hidden=\"true\" class=\"css-19bqh2r\" focusable=\"false\" height=\"20\" viewbox=\"0 0 20 20\" width=\"20\"><path d=\"M4.516 7.548c0.436-0.446 1.043-0.481 1.576 0l3.908 3.747 3.908-3.747c0.533-0.481 1.141-0.446 1.574 0 0.436 0.445 0.408 1.197 0 1.615-0.406 0.418-4.695 4.502-4.695 4.502-0.217 0.223-0.502 0.335-0.787 0.335s-0.57-0.112-0.789-0.335c0 0-4.287-4.084-4.695-4.502s-0.436-1.17 0-1.615z\"></path></svg></div></div></div></div></div><div class=\"styles_mobileListWrap__2QMJ0\"></div></div></div></section><div class=\"profileStatistics_fullStats__2G6op\"><div class=\"profileStatistics_fullStatsInner__33eTg\"><div class=\"profileStatistics_tabs__1cAYd\"><ul></ul></div><div><div class=\"profileStatistics_contentInner__3to5y\"></div></div></div></div><div style=\"width:100%;text-align:center\"><div class=\"Ellipsis_ellipsis__35oEN\"><div></div><div></div><div></div><div></div></div></div><footer class=\"Footer_footer__3zUfD\" data-name=\"footer-container\"><div class=\"Footer_footerInner__1UiMy\"><div class=\"Footer_grid__3ZIlK\"><div><a href=\"/\"><img alt=\"World Athletics\" class=\"Footer_footerLogo__3Jbdp\" src=\"https://media.aws.iaaf.org/logos/WA-logo-white.svg\"/></a></div><div><h3 class=\"Footer_header__ZcWS0\">CONFIDENTIALITY</h3><span class=\"Footer_headerDivider__2Dh59\"></span><ul class=\"Footer_footerNav__1N88t\"><li><a href=\"https://www.worldathletics.org/about-iaaf/contact-us\">Contact Us</a></li><li><a href=\"https://www.worldathletics.org/terms-and-conditions\">Terms and Conditions</a></li><li><a href=\"https://www.worldathletics.org/cookies-policy\">Cookie Policy</a></li><li><a href=\"https://www.worldathletics.org/privacy-policy\">Privacy Policy</a></li></ul></div><div><h3 class=\"Footer_header__ZcWS0\">Follow Us</h3><span class=\"Footer_headerDivider__2Dh59\"></span><ul class=\"Footer_footerNav__1N88t\"><li><a href=\"https://www.facebook.com/WorldAthletics\">Facebook</a></li><li><a href=\"https://www.instagram.com/worldathletics\">Instagram</a></li><li><a href=\"https://twitter.com/worldathletics\">Twitter</a></li><li><a href=\"https://www.youtube.com/worldathletics\">Youtube</a></li><li><a href=\"https://www.tiktok.com/@worldathletics\">TikTok</a></li></ul></div></div></div><div class=\"Footer_footerBottom__23B8Z\">©<!-- -->2022<!-- --> <!-- -->World Athletics. All Rights Reserved.</div></footer></div>]\n"
     ]
    }
   ],
   "source": [
    "\n",
    "page = requests.get(combined)\n",
    "soup = BeautifulSoup(page.content, \"html.parser\")\n",
    "results = soup.find_all(\"div\", id=\"__next\")\n",
    "\n",
    "# print(page.content)\n",
    "print(results)"
   ]
  },
  {
   "cell_type": "code",
   "execution_count": 5,
   "metadata": {},
   "outputs": [],
   "source": [
    "dfs = pd.read_html(\"https://www.worldathletics.org/records/toplists/sprints/100-metres/outdoor/women/senior/2022\")\n"
   ]
  },
  {
   "cell_type": "code",
   "execution_count": 6,
   "metadata": {},
   "outputs": [
    {
     "ename": "SyntaxError",
     "evalue": "unexpected EOF while parsing (4268452517.py, line 17)",
     "output_type": "error",
     "traceback": [
      "\u001b[0;36m  Cell \u001b[0;32mIn [6], line 17\u001b[0;36m\u001b[0m\n\u001b[0;31m    # driver = Firefox()\u001b[0m\n\u001b[0m                        ^\u001b[0m\n\u001b[0;31mSyntaxError\u001b[0m\u001b[0;31m:\u001b[0m unexpected EOF while parsing\n"
     ]
    }
   ],
   "source": [
    "from selenium import webdriver\n",
    "from selenium.webdriver import Firefox\n",
    "from selenium.webdriver.firefox.service import Service\n",
    "from selenium.webdriver.firefox.options import Options\n",
    "\n",
    "try:\n",
    "    options = webdriver.FirefoxOptions()\n",
    "    options.add_argument('--ignore-certificate-errors')\n",
    "    options.add_argument(\"--headless\")\n",
    "\n",
    "    driver = webdriver.Firefox(options=options)\n",
    "    driver.get(\"https://www.google.com\")\n",
    "    uwu = driver.find_element_by_xpath(\"//a[text()='Results']\")\n",
    "    print(uwu)\n",
    "\n",
    "\n",
    "# driver = Firefox()"
   ]
  },
  {
   "cell_type": "code",
   "execution_count": null,
   "metadata": {},
   "outputs": [
    {
     "name": "stderr",
     "output_type": "stream",
     "text": [
      "/tmp/ipykernel_1771/2113216255.py:8: DeprecationWarning: executable_path has been deprecated, please pass in a Service object\n",
      "  brower = webdriver.Firefox(options=fireFoxOptions, executable_path=\"~/.local/bin/geckodriver\")\n"
     ]
    },
    {
     "ename": "WebDriverException",
     "evalue": "Message: 'geckodriver' executable needs to be in PATH. \n",
     "output_type": "error",
     "traceback": [
      "\u001b[0;31m---------------------------------------------------------------------------\u001b[0m",
      "\u001b[0;31mFileNotFoundError\u001b[0m                         Traceback (most recent call last)",
      "File \u001b[0;32m/workspace/.pyenv_mirror/poetry/virtualenvs/athletics-anU3Jvik-py3.8/lib/python3.8/site-packages/selenium/webdriver/common/service.py:71\u001b[0m, in \u001b[0;36mService.start\u001b[0;34m(self)\u001b[0m\n\u001b[1;32m     70\u001b[0m     cmd\u001b[39m.\u001b[39mextend(\u001b[39mself\u001b[39m\u001b[39m.\u001b[39mcommand_line_args())\n\u001b[0;32m---> 71\u001b[0m     \u001b[39mself\u001b[39m\u001b[39m.\u001b[39mprocess \u001b[39m=\u001b[39m subprocess\u001b[39m.\u001b[39;49mPopen(cmd, env\u001b[39m=\u001b[39;49m\u001b[39mself\u001b[39;49m\u001b[39m.\u001b[39;49menv,\n\u001b[1;32m     72\u001b[0m                                     close_fds\u001b[39m=\u001b[39;49msystem() \u001b[39m!=\u001b[39;49m \u001b[39m'\u001b[39;49m\u001b[39mWindows\u001b[39;49m\u001b[39m'\u001b[39;49m,\n\u001b[1;32m     73\u001b[0m                                     stdout\u001b[39m=\u001b[39;49m\u001b[39mself\u001b[39;49m\u001b[39m.\u001b[39;49mlog_file,\n\u001b[1;32m     74\u001b[0m                                     stderr\u001b[39m=\u001b[39;49m\u001b[39mself\u001b[39;49m\u001b[39m.\u001b[39;49mlog_file,\n\u001b[1;32m     75\u001b[0m                                     stdin\u001b[39m=\u001b[39;49mPIPE,\n\u001b[1;32m     76\u001b[0m                                     creationflags\u001b[39m=\u001b[39;49m\u001b[39mself\u001b[39;49m\u001b[39m.\u001b[39;49mcreationflags)\n\u001b[1;32m     77\u001b[0m \u001b[39mexcept\u001b[39;00m \u001b[39mTypeError\u001b[39;00m:\n",
      "File \u001b[0;32m~/.pyenv/versions/3.8.13/lib/python3.8/subprocess.py:858\u001b[0m, in \u001b[0;36mPopen.__init__\u001b[0;34m(self, args, bufsize, executable, stdin, stdout, stderr, preexec_fn, close_fds, shell, cwd, env, universal_newlines, startupinfo, creationflags, restore_signals, start_new_session, pass_fds, encoding, errors, text)\u001b[0m\n\u001b[1;32m    855\u001b[0m             \u001b[39mself\u001b[39m\u001b[39m.\u001b[39mstderr \u001b[39m=\u001b[39m io\u001b[39m.\u001b[39mTextIOWrapper(\u001b[39mself\u001b[39m\u001b[39m.\u001b[39mstderr,\n\u001b[1;32m    856\u001b[0m                     encoding\u001b[39m=\u001b[39mencoding, errors\u001b[39m=\u001b[39merrors)\n\u001b[0;32m--> 858\u001b[0m     \u001b[39mself\u001b[39;49m\u001b[39m.\u001b[39;49m_execute_child(args, executable, preexec_fn, close_fds,\n\u001b[1;32m    859\u001b[0m                         pass_fds, cwd, env,\n\u001b[1;32m    860\u001b[0m                         startupinfo, creationflags, shell,\n\u001b[1;32m    861\u001b[0m                         p2cread, p2cwrite,\n\u001b[1;32m    862\u001b[0m                         c2pread, c2pwrite,\n\u001b[1;32m    863\u001b[0m                         errread, errwrite,\n\u001b[1;32m    864\u001b[0m                         restore_signals, start_new_session)\n\u001b[1;32m    865\u001b[0m \u001b[39mexcept\u001b[39;00m:\n\u001b[1;32m    866\u001b[0m     \u001b[39m# Cleanup if the child failed starting.\u001b[39;00m\n",
      "File \u001b[0;32m~/.pyenv/versions/3.8.13/lib/python3.8/subprocess.py:1704\u001b[0m, in \u001b[0;36mPopen._execute_child\u001b[0;34m(self, args, executable, preexec_fn, close_fds, pass_fds, cwd, env, startupinfo, creationflags, shell, p2cread, p2cwrite, c2pread, c2pwrite, errread, errwrite, restore_signals, start_new_session)\u001b[0m\n\u001b[1;32m   1703\u001b[0m         err_msg \u001b[39m=\u001b[39m os\u001b[39m.\u001b[39mstrerror(errno_num)\n\u001b[0;32m-> 1704\u001b[0m     \u001b[39mraise\u001b[39;00m child_exception_type(errno_num, err_msg, err_filename)\n\u001b[1;32m   1705\u001b[0m \u001b[39mraise\u001b[39;00m child_exception_type(err_msg)\n",
      "\u001b[0;31mFileNotFoundError\u001b[0m: [Errno 2] No such file or directory: '~/.local/bin/geckodriver'",
      "\nDuring handling of the above exception, another exception occurred:\n",
      "\u001b[0;31mWebDriverException\u001b[0m                        Traceback (most recent call last)",
      "Cell \u001b[0;32mIn [17], line 8\u001b[0m\n\u001b[1;32m      6\u001b[0m fireFoxOptions \u001b[38;5;241m=\u001b[39m Options()\n\u001b[1;32m      7\u001b[0m fireFoxOptions\u001b[38;5;241m.\u001b[39madd_argument(\u001b[38;5;124m\"\u001b[39m\u001b[38;5;124m--headless\u001b[39m\u001b[38;5;124m\"\u001b[39m)\n\u001b[0;32m----> 8\u001b[0m brower \u001b[38;5;241m=\u001b[39m webdriver\u001b[38;5;241m.\u001b[39mFirefox(options\u001b[38;5;241m=\u001b[39mfireFoxOptions, executable_path\u001b[38;5;241m=\u001b[39m\u001b[38;5;124m\"\u001b[39m\u001b[38;5;124m~/.local/bin/geckodriver\u001b[39m\u001b[38;5;124m\"\u001b[39m)\n\u001b[1;32m     10\u001b[0m brower\u001b[38;5;241m.\u001b[39mget(\u001b[38;5;124m'\u001b[39m\u001b[38;5;124mhttps://pythonbasics.org\u001b[39m\u001b[38;5;124m'\u001b[39m)\n\u001b[1;32m     11\u001b[0m \u001b[38;5;28mprint\u001b[39m(brower\u001b[38;5;241m.\u001b[39mpage_source)\n",
      "File \u001b[0;32m/workspace/.pyenv_mirror/poetry/virtualenvs/athletics-anU3Jvik-py3.8/lib/python3.8/site-packages/selenium/webdriver/firefox/webdriver.py:172\u001b[0m, in \u001b[0;36mWebDriver.__init__\u001b[0;34m(self, firefox_profile, firefox_binary, capabilities, proxy, executable_path, options, service_log_path, service_args, service, desired_capabilities, log_path, keep_alive)\u001b[0m\n\u001b[1;32m    167\u001b[0m \u001b[39mif\u001b[39;00m \u001b[39mnot\u001b[39;00m \u001b[39mself\u001b[39m\u001b[39m.\u001b[39mservice:\n\u001b[1;32m    168\u001b[0m     \u001b[39mself\u001b[39m\u001b[39m.\u001b[39mservice \u001b[39m=\u001b[39m Service(\n\u001b[1;32m    169\u001b[0m         executable_path,\n\u001b[1;32m    170\u001b[0m         service_args\u001b[39m=\u001b[39mservice_args,\n\u001b[1;32m    171\u001b[0m         log_path\u001b[39m=\u001b[39mservice_log_path)\n\u001b[0;32m--> 172\u001b[0m \u001b[39mself\u001b[39;49m\u001b[39m.\u001b[39;49mservice\u001b[39m.\u001b[39;49mstart()\n\u001b[1;32m    174\u001b[0m executor \u001b[39m=\u001b[39m FirefoxRemoteConnection(\n\u001b[1;32m    175\u001b[0m     remote_server_addr\u001b[39m=\u001b[39m\u001b[39mself\u001b[39m\u001b[39m.\u001b[39mservice\u001b[39m.\u001b[39mservice_url,\n\u001b[1;32m    176\u001b[0m     ignore_proxy\u001b[39m=\u001b[39moptions\u001b[39m.\u001b[39m_ignore_local_proxy)\n\u001b[1;32m    177\u001b[0m \u001b[39msuper\u001b[39m()\u001b[39m.\u001b[39m\u001b[39m__init__\u001b[39m(\n\u001b[1;32m    178\u001b[0m     command_executor\u001b[39m=\u001b[39mexecutor,\n\u001b[1;32m    179\u001b[0m     options\u001b[39m=\u001b[39moptions,\n\u001b[1;32m    180\u001b[0m     keep_alive\u001b[39m=\u001b[39m\u001b[39mTrue\u001b[39;00m)\n",
      "File \u001b[0;32m/workspace/.pyenv_mirror/poetry/virtualenvs/athletics-anU3Jvik-py3.8/lib/python3.8/site-packages/selenium/webdriver/common/service.py:81\u001b[0m, in \u001b[0;36mService.start\u001b[0;34m(self)\u001b[0m\n\u001b[1;32m     79\u001b[0m \u001b[39mexcept\u001b[39;00m \u001b[39mOSError\u001b[39;00m \u001b[39mas\u001b[39;00m err:\n\u001b[1;32m     80\u001b[0m     \u001b[39mif\u001b[39;00m err\u001b[39m.\u001b[39merrno \u001b[39m==\u001b[39m errno\u001b[39m.\u001b[39mENOENT:\n\u001b[0;32m---> 81\u001b[0m         \u001b[39mraise\u001b[39;00m WebDriverException(\n\u001b[1;32m     82\u001b[0m             \u001b[39m\"\u001b[39m\u001b[39m'\u001b[39m\u001b[39m{}\u001b[39;00m\u001b[39m'\u001b[39m\u001b[39m executable needs to be in PATH. \u001b[39m\u001b[39m{}\u001b[39;00m\u001b[39m\"\u001b[39m\u001b[39m.\u001b[39mformat(\n\u001b[1;32m     83\u001b[0m                 os\u001b[39m.\u001b[39mpath\u001b[39m.\u001b[39mbasename(\u001b[39mself\u001b[39m\u001b[39m.\u001b[39mpath), \u001b[39mself\u001b[39m\u001b[39m.\u001b[39mstart_error_message)\n\u001b[1;32m     84\u001b[0m         )\n\u001b[1;32m     85\u001b[0m     \u001b[39melif\u001b[39;00m err\u001b[39m.\u001b[39merrno \u001b[39m==\u001b[39m errno\u001b[39m.\u001b[39mEACCES:\n\u001b[1;32m     86\u001b[0m         \u001b[39mraise\u001b[39;00m WebDriverException(\n\u001b[1;32m     87\u001b[0m             \u001b[39m\"\u001b[39m\u001b[39m'\u001b[39m\u001b[39m{}\u001b[39;00m\u001b[39m'\u001b[39m\u001b[39m executable may have wrong permissions. \u001b[39m\u001b[39m{}\u001b[39;00m\u001b[39m\"\u001b[39m\u001b[39m.\u001b[39mformat(\n\u001b[1;32m     88\u001b[0m                 os\u001b[39m.\u001b[39mpath\u001b[39m.\u001b[39mbasename(\u001b[39mself\u001b[39m\u001b[39m.\u001b[39mpath), \u001b[39mself\u001b[39m\u001b[39m.\u001b[39mstart_error_message)\n\u001b[1;32m     89\u001b[0m         )\n",
      "\u001b[0;31mWebDriverException\u001b[0m: Message: 'geckodriver' executable needs to be in PATH. \n"
     ]
    }
   ],
   "source": [
    "from selenium import webdriver\n",
    "from selenium.webdriver.firefox.service import Service\n",
    "from selenium.webdriver.firefox.options import Options\n",
    "\n",
    "try:\n",
    "    fireFoxOptions = Options()\n",
    "    fireFoxOptions.add_argument(\"--headless\")\n",
    "    brower = webdriver.Firefox(options=fireFoxOptions, executable_path=\"~/.local/bin/geckodriver\")\n",
    "\n",
    "    brower.get('https://pythonbasics.org')\n",
    "    print(brower.page_source)\n",
    "finally:\n",
    "    try:\n",
    "        brower.close()\n",
    "    except:\n",
    "        pass"
   ]
  }
 ],
 "metadata": {
  "kernelspec": {
   "display_name": "Python 3.8.13 ('athletics-anU3Jvik-py3.8')",
   "language": "python",
   "name": "python3"
  },
  "language_info": {
   "codemirror_mode": {
    "name": "ipython",
    "version": 3
   },
   "file_extension": ".py",
   "mimetype": "text/x-python",
   "name": "python",
   "nbconvert_exporter": "python",
   "pygments_lexer": "ipython3",
   "version": "3.8.13"
  },
  "orig_nbformat": 4,
  "vscode": {
   "interpreter": {
    "hash": "fe425186dfc4d2c908309af0e4cfac47d390151451e720829039ccdd91544ddf"
   }
  }
 },
 "nbformat": 4,
 "nbformat_minor": 2
}
